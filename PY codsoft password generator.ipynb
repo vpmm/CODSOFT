{
 "cells": [
  {
   "cell_type": "markdown",
   "id": "80a1de93",
   "metadata": {},
   "source": [
    "# PASSWORD GENERATOR"
   ]
  },
  {
   "cell_type": "code",
   "execution_count": 2,
   "id": "60a4f392",
   "metadata": {},
   "outputs": [
    {
     "name": "stdout",
     "output_type": "stream",
     "text": [
      "Enter the desired length of the password: 7\n",
      "The generated password is: 6y2*d*8\n"
     ]
    }
   ],
   "source": [
    "import random\n",
    "\n",
    "\n",
    "def generate_password(length):\n",
    "    \"\"\"Generate a password of the specified length.\"\"\"\n",
    "    characters = \"abcdefghijklmnopqrstuvwxyz0123456789!@#$%^&*()\"\n",
    "    password = \"\"\n",
    "    for i in range(length):\n",
    "        password += random.choice(characters)\n",
    "    return password\n",
    "\n",
    "\n",
    "def main():\n",
    "    \"\"\"The main function.\"\"\"\n",
    "    length = int(input(\"Enter the desired length of the password: \"))\n",
    "    password = generate_password(length)\n",
    "    print(\"The generated password is:\", password)\n",
    "\n",
    "\n",
    "if __name__ == \"__main__\":\n",
    "    main()"
   ]
  },
  {
   "cell_type": "code",
   "execution_count": null,
   "id": "349954e8",
   "metadata": {},
   "outputs": [],
   "source": []
  }
 ],
 "metadata": {
  "kernelspec": {
   "display_name": "Python 3 (ipykernel)",
   "language": "python",
   "name": "python3"
  },
  "language_info": {
   "codemirror_mode": {
    "name": "ipython",
    "version": 3
   },
   "file_extension": ".py",
   "mimetype": "text/x-python",
   "name": "python",
   "nbconvert_exporter": "python",
   "pygments_lexer": "ipython3",
   "version": "3.8.10"
  }
 },
 "nbformat": 4,
 "nbformat_minor": 5
}

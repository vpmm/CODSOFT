{
 "cells": [
  {
   "cell_type": "markdown",
   "id": "8ecee4e3",
   "metadata": {},
   "source": [
    "## TO-DO LIST"
   ]
  },
  {
   "cell_type": "code",
   "execution_count": 1,
   "id": "68d8043b",
   "metadata": {},
   "outputs": [],
   "source": [
    "import tkinter as tk\n",
    "from tkinter import ttk\n",
    "from tkinter import messagebox\n",
    "import sqlite3 as sql\n",
    "conn1 = sql.connect('todo.db')\n",
    "c = conn1.cursor()\n",
    "class ToDoList:\n",
    "    def __init__(self, window):\n",
    "        self.window = window\n",
    "        self.task_list = []\n",
    "        self.task_entry = ttk.Entry(self.window)\n",
    "        self.task_listbox = tk.Listbox(self.window)\n",
    "        self.add_button = ttk.Button(self.window, text='Add tasks', command=self.add_task)\n",
    "        self.delete_button = ttk.Button(self.window, text='Delete tasks', command=self.delete_task)\n",
    "        self.mark_completed_button = ttk.Button(self.window, text='Mark completed', command=self.mark_completed_task)\n",
    "        self.task_entry.pack()\n",
    "        self.task_listbox.pack()\n",
    "        self.add_button.pack()\n",
    "        self.delete_button.pack()\n",
    "        self.mark_completed_button.pack()\n",
    "    def add_task(self):\n",
    "        task = self.task_entry.get()\n",
    "        if task:\n",
    "            self.task_list.append(task)\n",
    "            self.task_listbox.insert('end', task)\n",
    "            self.task_entry.delete(0, 'end')\n",
    "    def delete_task(self):\n",
    "        task = self.task_listbox.get('active')\n",
    "        if task:\n",
    "            self.task_list.remove(task)\n",
    "            self.task_listbox.delete('active')\n",
    "    def mark_completed_task(self):\n",
    "        task = self.task_listbox.get('active')\n",
    "        if task:\n",
    "            self.task_list[self.task_list.index(task)] = task + ' (Completed)'\n",
    "            self.task_listbox.update()\n",
    "window = tk.Tk()\n",
    "window.title('To-Do List')\n",
    "todo_list = ToDoList(window)\n",
    "window.mainloop()"
   ]
  },
  {
   "cell_type": "code",
   "execution_count": null,
   "id": "ccc00fc3",
   "metadata": {},
   "outputs": [],
   "source": []
  }
 ],
 "metadata": {
  "kernelspec": {
   "display_name": "Python 3 (ipykernel)",
   "language": "python",
   "name": "python3"
  },
  "language_info": {
   "codemirror_mode": {
    "name": "ipython",
    "version": 3
   },
   "file_extension": ".py",
   "mimetype": "text/x-python",
   "name": "python",
   "nbconvert_exporter": "python",
   "pygments_lexer": "ipython3",
   "version": "3.8.10"
  }
 },
 "nbformat": 4,
 "nbformat_minor": 5
}
